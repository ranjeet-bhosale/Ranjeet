{
 "cells": [
  {
   "cell_type": "markdown",
   "id": "b7092ac9",
   "metadata": {},
   "source": [
    "# Outliers"
   ]
  },
  {
   "cell_type": "code",
   "execution_count": null,
   "id": "17f8dbc9",
   "metadata": {},
   "outputs": [],
   "source": [
    "Datapoints which are far from observed values \n",
    "\n",
    "Smaller or larger values than reamining values"
   ]
  },
  {
   "cell_type": "markdown",
   "id": "2ee27ebc",
   "metadata": {},
   "source": [
    "# How Outliers are introduced in the datasets?"
   ]
  },
  {
   "cell_type": "code",
   "execution_count": null,
   "id": "7797d190",
   "metadata": {},
   "outputs": [],
   "source": [
    "1. Data Entry Error\n",
    "2. Instrumental Error\n",
    "3. Natural Error\n",
    "4. Intentional Error\n",
    "5. Sampling Errors  : (Mixing data from wrong sources)"
   ]
  },
  {
   "cell_type": "markdown",
   "id": "6dff1c0c",
   "metadata": {},
   "source": [
    "# How to handle Outliers?"
   ]
  },
  {
   "cell_type": "code",
   "execution_count": null,
   "id": "75548bdb",
   "metadata": {},
   "outputs": [],
   "source": [
    "1. Delete observations (Not preferable)\n",
    "2. Imputation Techniques:\n",
    "    1. median\n",
    "    2. mean\n",
    "    3. zero\n",
    "    4. minimum\n",
    "    5. maximum\n",
    "    6. upper tail\n",
    "    7. lower tail\n",
    "\n",
    "3. Transformation:\n",
    "    1. Log Transformation\n",
    "    2. Cube root\n",
    "    3. SquareRoot\n",
    "    4. Reciprocal\n",
    "    5. Standardization"
   ]
  },
  {
   "cell_type": "markdown",
   "id": "a49e04b8",
   "metadata": {},
   "source": [
    "# Impact of Outliers on ML Algorithms"
   ]
  },
  {
   "cell_type": "markdown",
   "id": "56f4ab39",
   "metadata": {},
   "source": [
    "# Sensitive to Outliers"
   ]
  },
  {
   "cell_type": "code",
   "execution_count": null,
   "id": "4667b79e",
   "metadata": {},
   "outputs": [],
   "source": [
    "1. Linear Regression\n",
    "2. Logistic Regression\n",
    "3. K-Nearest Neighbours\n",
    "4. Support Vector Machine\n",
    "5. K-Means Clustering"
   ]
  },
  {
   "cell_type": "markdown",
   "id": "5893d0ea",
   "metadata": {},
   "source": [
    "# Not Sensitive to Outliers"
   ]
  },
  {
   "cell_type": "code",
   "execution_count": null,
   "id": "033dba53",
   "metadata": {},
   "outputs": [],
   "source": [
    "1. Decision Tree\n",
    "2. Random Forest\n",
    "3. Adaboost\n",
    "4. Gradient Boost\n",
    "5. XGBoost\n",
    "6. Naive Bayes"
   ]
  },
  {
   "cell_type": "markdown",
   "id": "2dde65cd",
   "metadata": {},
   "source": [
    "# How to Detect Outliers?"
   ]
  },
  {
   "cell_type": "markdown",
   "id": "1c04b027",
   "metadata": {},
   "source": [
    "1. z-score\n",
    "2. IQR\n",
    "3. boxplot"
   ]
  },
  {
   "cell_type": "markdown",
   "id": "a62f6923",
   "metadata": {},
   "source": [
    "## 1. z-score"
   ]
  },
  {
   "cell_type": "code",
   "execution_count": 1,
   "id": "9c776b19",
   "metadata": {},
   "outputs": [],
   "source": [
    "import numpy as np\n",
    "import pandas as pd\n",
    "\n",
    "import matplotlib.pyplot as plt\n",
    "import seaborn as sns"
   ]
  },
  {
   "cell_type": "code",
   "execution_count": null,
   "id": "f8b7336b",
   "metadata": {},
   "outputs": [],
   "source": [
    "-3 > z_score > 3 >> Outlier"
   ]
  },
  {
   "cell_type": "code",
   "execution_count": 2,
   "id": "c08c8871",
   "metadata": {},
   "outputs": [
    {
     "data": {
      "text/plain": [
       "array([24, 28, 20, 20, 24, 28, 23, 20, 25, 25, 21, 27, 20, 29, 29, 26, 22,\n",
       "       20, 29, 26, 28, 26, 23, 21, 28, 28, 25, 21, 22, 21])"
      ]
     },
     "execution_count": 2,
     "metadata": {},
     "output_type": "execute_result"
    }
   ],
   "source": [
    "array = np.random.randint(20,30, size = 30)\n",
    "array"
   ]
  },
  {
   "cell_type": "code",
   "execution_count": 3,
   "id": "def5cdc9",
   "metadata": {
    "scrolled": false
   },
   "outputs": [
    {
     "data": {
      "text/plain": [
       "array([ 24,  28,  20,  20,  24,  28,  23,  20,  25, 401,  21,  27,  20,\n",
       "        29,  29,  26,  22,  20,  29,  26,  28,  26,  23,  21,  28,  28,\n",
       "        25,  21,  22, 400])"
      ]
     },
     "execution_count": 3,
     "metadata": {},
     "output_type": "execute_result"
    }
   ],
   "source": [
    "array = np.array([24, 28, 20, 20, 24, 28, 23, 20, 25, 401, 21, 27, 20, 29, 29, 26, 22,\n",
    "       20, 29, 26, 28, 26, 23, 21, 28, 28, 25, 21, 22, 400])\n",
    "array"
   ]
  },
  {
   "cell_type": "code",
   "execution_count": 4,
   "id": "e51202b6",
   "metadata": {},
   "outputs": [],
   "source": [
    "Xmean = np.mean(array)\n",
    "std = np.std(array)"
   ]
  },
  {
   "cell_type": "code",
   "execution_count": null,
   "id": "0369cb33",
   "metadata": {},
   "outputs": [],
   "source": [
    "z-score = (X - Xmean)/std"
   ]
  },
  {
   "cell_type": "code",
   "execution_count": 5,
   "id": "8d6c1094",
   "metadata": {},
   "outputs": [
    {
     "name": "stdout",
     "output_type": "stream",
     "text": [
      "Mean of an array : 49.46666666666667\n",
      "Std dev of an array : 93.86931814436967\n"
     ]
    }
   ],
   "source": [
    "print(\"Mean of an array :\", Xmean)\n",
    "print(\"Std dev of an array :\", std)"
   ]
  },
  {
   "cell_type": "code",
   "execution_count": 6,
   "id": "c1eb7cc9",
   "metadata": {
    "scrolled": true
   },
   "outputs": [
    {
     "data": {
      "text/plain": [
       "-0.2712991547195357"
      ]
     },
     "execution_count": 6,
     "metadata": {},
     "output_type": "execute_result"
    }
   ],
   "source": [
    "z_score = (24 - Xmean)/std\n",
    "z_score"
   ]
  },
  {
   "cell_type": "code",
   "execution_count": 7,
   "id": "b921945d",
   "metadata": {
    "scrolled": true
   },
   "outputs": [
    {
     "data": {
      "text/plain": [
       "-0.21803361387145934"
      ]
     },
     "execution_count": 7,
     "metadata": {},
     "output_type": "execute_result"
    }
   ],
   "source": [
    "z_score = (29 - Xmean)/std\n",
    "z_score"
   ]
  },
  {
   "cell_type": "code",
   "execution_count": 8,
   "id": "62ffa605",
   "metadata": {},
   "outputs": [
    {
     "data": {
      "text/plain": [
       "3.744922625225423"
      ]
     },
     "execution_count": 8,
     "metadata": {},
     "output_type": "execute_result"
    }
   ],
   "source": [
    "z_score = (401 - Xmean)/std\n",
    "z_score"
   ]
  },
  {
   "cell_type": "code",
   "execution_count": 9,
   "id": "7851ab91",
   "metadata": {},
   "outputs": [
    {
     "data": {
      "text/plain": [
       "3.734269517055808"
      ]
     },
     "execution_count": 9,
     "metadata": {},
     "output_type": "execute_result"
    }
   ],
   "source": [
    "z_score = (400 - Xmean)/std\n",
    "z_score"
   ]
  },
  {
   "cell_type": "code",
   "execution_count": 10,
   "id": "97b27496",
   "metadata": {},
   "outputs": [],
   "source": [
    "from scipy.stats import zscore"
   ]
  },
  {
   "cell_type": "code",
   "execution_count": 16,
   "id": "19290c05",
   "metadata": {
    "scrolled": false
   },
   "outputs": [
    {
     "data": {
      "text/plain": [
       "array([0.27129915, 0.22868672, 0.31391159, 0.31391159, 0.27129915,\n",
       "       0.22868672, 0.28195226, 0.31391159, 0.26064605, 3.74492263,\n",
       "       0.30325848, 0.23933983, 0.31391159, 0.21803361, 0.21803361,\n",
       "       0.24999294, 0.29260537, 0.31391159, 0.21803361, 0.24999294,\n",
       "       0.22868672, 0.24999294, 0.28195226, 0.30325848, 0.22868672,\n",
       "       0.22868672, 0.26064605, 0.30325848, 0.29260537, 3.73426952])"
      ]
     },
     "execution_count": 16,
     "metadata": {},
     "output_type": "execute_result"
    }
   ],
   "source": [
    "z_val = np.abs(zscore(array))\n",
    "z_val"
   ]
  },
  {
   "cell_type": "code",
   "execution_count": 14,
   "id": "c4faf73c",
   "metadata": {},
   "outputs": [
    {
     "data": {
      "text/plain": [
       "array([401, 400])"
      ]
     },
     "execution_count": 14,
     "metadata": {},
     "output_type": "execute_result"
    }
   ],
   "source": [
    "outliers_index = np.where(z_val > 3)[0]\n",
    "outliers_list = array[outliers_index]\n",
    "outliers_list"
   ]
  },
  {
   "cell_type": "code",
   "execution_count": 18,
   "id": "9484ff9b",
   "metadata": {
    "scrolled": false
   },
   "outputs": [
    {
     "data": {
      "text/html": [
       "<div>\n",
       "<style scoped>\n",
       "    .dataframe tbody tr th:only-of-type {\n",
       "        vertical-align: middle;\n",
       "    }\n",
       "\n",
       "    .dataframe tbody tr th {\n",
       "        vertical-align: top;\n",
       "    }\n",
       "\n",
       "    .dataframe thead th {\n",
       "        text-align: right;\n",
       "    }\n",
       "</style>\n",
       "<table border=\"1\" class=\"dataframe\">\n",
       "  <thead>\n",
       "    <tr style=\"text-align: right;\">\n",
       "      <th></th>\n",
       "      <th>Glucose</th>\n",
       "      <th>BloodPressure</th>\n",
       "      <th>SkinThickness</th>\n",
       "      <th>Insulin</th>\n",
       "      <th>BMI</th>\n",
       "      <th>DiabetesPedigreeFunction</th>\n",
       "      <th>Age</th>\n",
       "      <th>Outcome</th>\n",
       "    </tr>\n",
       "  </thead>\n",
       "  <tbody>\n",
       "    <tr>\n",
       "      <th>0</th>\n",
       "      <td>148</td>\n",
       "      <td>50</td>\n",
       "      <td>35</td>\n",
       "      <td>0</td>\n",
       "      <td>33.6</td>\n",
       "      <td>0.627</td>\n",
       "      <td>50</td>\n",
       "      <td>1</td>\n",
       "    </tr>\n",
       "    <tr>\n",
       "      <th>1</th>\n",
       "      <td>85</td>\n",
       "      <td>66</td>\n",
       "      <td>29</td>\n",
       "      <td>0</td>\n",
       "      <td>26.6</td>\n",
       "      <td>0.351</td>\n",
       "      <td>31</td>\n",
       "      <td>0</td>\n",
       "    </tr>\n",
       "    <tr>\n",
       "      <th>2</th>\n",
       "      <td>183</td>\n",
       "      <td>64</td>\n",
       "      <td>0</td>\n",
       "      <td>0</td>\n",
       "      <td>23.3</td>\n",
       "      <td>0.672</td>\n",
       "      <td>52</td>\n",
       "      <td>1</td>\n",
       "    </tr>\n",
       "    <tr>\n",
       "      <th>3</th>\n",
       "      <td>150</td>\n",
       "      <td>66</td>\n",
       "      <td>23</td>\n",
       "      <td>94</td>\n",
       "      <td>28.1</td>\n",
       "      <td>0.167</td>\n",
       "      <td>21</td>\n",
       "      <td>0</td>\n",
       "    </tr>\n",
       "    <tr>\n",
       "      <th>4</th>\n",
       "      <td>150</td>\n",
       "      <td>40</td>\n",
       "      <td>35</td>\n",
       "      <td>168</td>\n",
       "      <td>43.1</td>\n",
       "      <td>2.288</td>\n",
       "      <td>33</td>\n",
       "      <td>1</td>\n",
       "    </tr>\n",
       "    <tr>\n",
       "      <th>...</th>\n",
       "      <td>...</td>\n",
       "      <td>...</td>\n",
       "      <td>...</td>\n",
       "      <td>...</td>\n",
       "      <td>...</td>\n",
       "      <td>...</td>\n",
       "      <td>...</td>\n",
       "      <td>...</td>\n",
       "    </tr>\n",
       "    <tr>\n",
       "      <th>763</th>\n",
       "      <td>101</td>\n",
       "      <td>76</td>\n",
       "      <td>48</td>\n",
       "      <td>180</td>\n",
       "      <td>32.9</td>\n",
       "      <td>0.171</td>\n",
       "      <td>63</td>\n",
       "      <td>0</td>\n",
       "    </tr>\n",
       "    <tr>\n",
       "      <th>764</th>\n",
       "      <td>122</td>\n",
       "      <td>70</td>\n",
       "      <td>27</td>\n",
       "      <td>0</td>\n",
       "      <td>36.8</td>\n",
       "      <td>0.340</td>\n",
       "      <td>27</td>\n",
       "      <td>0</td>\n",
       "    </tr>\n",
       "    <tr>\n",
       "      <th>765</th>\n",
       "      <td>121</td>\n",
       "      <td>72</td>\n",
       "      <td>23</td>\n",
       "      <td>112</td>\n",
       "      <td>26.2</td>\n",
       "      <td>0.245</td>\n",
       "      <td>30</td>\n",
       "      <td>0</td>\n",
       "    </tr>\n",
       "    <tr>\n",
       "      <th>766</th>\n",
       "      <td>126</td>\n",
       "      <td>60</td>\n",
       "      <td>0</td>\n",
       "      <td>0</td>\n",
       "      <td>30.1</td>\n",
       "      <td>0.349</td>\n",
       "      <td>47</td>\n",
       "      <td>1</td>\n",
       "    </tr>\n",
       "    <tr>\n",
       "      <th>767</th>\n",
       "      <td>93</td>\n",
       "      <td>70</td>\n",
       "      <td>31</td>\n",
       "      <td>0</td>\n",
       "      <td>30.4</td>\n",
       "      <td>0.315</td>\n",
       "      <td>23</td>\n",
       "      <td>0</td>\n",
       "    </tr>\n",
       "  </tbody>\n",
       "</table>\n",
       "<p>768 rows × 8 columns</p>\n",
       "</div>"
      ],
      "text/plain": [
       "     Glucose  BloodPressure  SkinThickness  Insulin   BMI  \\\n",
       "0        148             50             35        0  33.6   \n",
       "1         85             66             29        0  26.6   \n",
       "2        183             64              0        0  23.3   \n",
       "3        150             66             23       94  28.1   \n",
       "4        150             40             35      168  43.1   \n",
       "..       ...            ...            ...      ...   ...   \n",
       "763      101             76             48      180  32.9   \n",
       "764      122             70             27        0  36.8   \n",
       "765      121             72             23      112  26.2   \n",
       "766      126             60              0        0  30.1   \n",
       "767       93             70             31        0  30.4   \n",
       "\n",
       "     DiabetesPedigreeFunction  Age  Outcome  \n",
       "0                       0.627   50        1  \n",
       "1                       0.351   31        0  \n",
       "2                       0.672   52        1  \n",
       "3                       0.167   21        0  \n",
       "4                       2.288   33        1  \n",
       "..                        ...  ...      ...  \n",
       "763                     0.171   63        0  \n",
       "764                     0.340   27        0  \n",
       "765                     0.245   30        0  \n",
       "766                     0.349   47        1  \n",
       "767                     0.315   23        0  \n",
       "\n",
       "[768 rows x 8 columns]"
      ]
     },
     "execution_count": 18,
     "metadata": {},
     "output_type": "execute_result"
    }
   ],
   "source": [
    "df = pd.read_csv(\"diabetes.csv\")\n",
    "df"
   ]
  },
  {
   "cell_type": "code",
   "execution_count": 20,
   "id": "10034e67",
   "metadata": {},
   "outputs": [
    {
     "data": {
      "text/plain": [
       "<AxesSubplot:>"
      ]
     },
     "execution_count": 20,
     "metadata": {},
     "output_type": "execute_result"
    },
    {
     "data": {
      "image/png": "[encoded data removed]",
      "text/plain": [
       "<Figure size 432x288 with 1 Axes>"
      ]
     },
     "metadata": {
      "needs_background": "light"
     },
     "output_type": "display_data"
    }
   ],
   "source": [
    "df.boxplot()"
   ]
  },
  {
   "cell_type": "code",
   "execution_count": 22,
   "id": "412d27ea",
   "metadata": {},
   "outputs": [],
   "source": [
    "def get_outliers_zscore(df):\n",
    "    mean = df[\"Age\"].mean()\n",
    "    print(\"Mean :\", mean)\n",
    "    std = df[\"Age\"].std()\n",
    "    print(\"Std :\", std)\n",
    "    outliers_list = []\n",
    "    threshold = 3\n",
    "    \n",
    "    for x in df[\"Age\"].values:\n",
    "        zscore = (x - mean)/std\n",
    "        \n",
    "        if np.abs(zscore) > threshold:\n",
    "            print(f\"x == {x} and zscore == {zscore}\")\n",
    "            outliers_list.append(x)\n",
    "            \n",
    "    return outliers_list"
   ]
  },
  {
   "cell_type": "code",
   "execution_count": 23,
   "id": "1e18a1e2",
   "metadata": {},
   "outputs": [
    {
     "name": "stdout",
     "output_type": "stream",
     "text": [
      "Mean : 33.243489583333336\n",
      "Std : 11.758182118755917\n",
      "x == 69 and zscore == 3.0409896747244725\n",
      "x == 72 and zscore == 3.2961311557544852\n",
      "x == 81 and zscore == 4.061555598844524\n",
      "x == 70 and zscore == 3.12603683506781\n",
      "x == 69 and zscore == 3.0409896747244725\n"
     ]
    },
    {
     "data": {
      "text/plain": [
       "[69, 72, 81, 70, 69]"
      ]
     },
     "execution_count": 23,
     "metadata": {},
     "output_type": "execute_result"
    }
   ],
   "source": [
    "get_outliers_zscore(df)"
   ]
  },
  {
   "cell_type": "code",
   "execution_count": 24,
   "id": "4ce02ee1",
   "metadata": {},
   "outputs": [
    {
     "data": {
      "text/plain": [
       "-2.009999999999998"
      ]
     },
     "execution_count": 24,
     "metadata": {},
     "output_type": "execute_result"
    }
   ],
   "source": [
    "33.24 - 3*11.75"
   ]
  },
  {
   "cell_type": "code",
   "execution_count": 25,
   "id": "04440e1b",
   "metadata": {},
   "outputs": [
    {
     "data": {
      "text/plain": [
       "68.49000000000001"
      ]
     },
     "execution_count": 25,
     "metadata": {},
     "output_type": "execute_result"
    }
   ],
   "source": [
    "33.24 + 3*11.75"
   ]
  },
  {
   "cell_type": "code",
   "execution_count": 33,
   "id": "47a91993",
   "metadata": {},
   "outputs": [],
   "source": [
    "def get_outliers_zscore_fun(df):\n",
    "#     mean = df[\"Age\"].mean()\n",
    "#     print(\"Mean :\", mean)\n",
    "#     std = df[\"Age\"].std()\n",
    "#     print(\"Std :\", std)\n",
    "    outliers_list = []\n",
    "    threshold = 3\n",
    "    \n",
    "    z_score = zscore(df[\"Age\"])\n",
    "\n",
    "    index = np.where(np.abs(z_score) > threshold)\n",
    "    print(df[\"Age\"].iloc[index])\n",
    "#     outliers_list.append(df[\"Age\"].iloc[index])\n",
    "    return outliers_list"
   ]
  },
  {
   "cell_type": "code",
   "execution_count": 34,
   "id": "8c3d328f",
   "metadata": {},
   "outputs": [
    {
     "name": "stdout",
     "output_type": "stream",
     "text": [
      "123    69\n",
      "453    72\n",
      "459    81\n",
      "666    70\n",
      "684    69\n",
      "Name: Age, dtype: int64\n"
     ]
    },
    {
     "data": {
      "text/plain": [
       "[]"
      ]
     },
     "execution_count": 34,
     "metadata": {},
     "output_type": "execute_result"
    }
   ],
   "source": [
    "get_outliers_zscore_fun(df)"
   ]
  },
  {
   "cell_type": "markdown",
   "id": "db36ef6b",
   "metadata": {},
   "source": [
    "## 2. IQR"
   ]
  },
  {
   "cell_type": "code",
   "execution_count": null,
   "id": "80a19d6a",
   "metadata": {},
   "outputs": [],
   "source": [
    "Inter Quartile Range\n",
    "\n",
    "IQR = Q3 - Q1\n",
    "\n",
    "Q1 = 25%  value\n",
    "Q2 = 50% value\n",
    "Q3 = 75% value"
   ]
  },
  {
   "cell_type": "code",
   "execution_count": 35,
   "id": "137c686a",
   "metadata": {
    "scrolled": true
   },
   "outputs": [
    {
     "data": {
      "text/html": [
       "<div>\n",
       "<style scoped>\n",
       "    .dataframe tbody tr th:only-of-type {\n",
       "        vertical-align: middle;\n",
       "    }\n",
       "\n",
       "    .dataframe tbody tr th {\n",
       "        vertical-align: top;\n",
       "    }\n",
       "\n",
       "    .dataframe thead th {\n",
       "        text-align: right;\n",
       "    }\n",
       "</style>\n",
       "<table border=\"1\" class=\"dataframe\">\n",
       "  <thead>\n",
       "    <tr style=\"text-align: right;\">\n",
       "      <th></th>\n",
       "      <th>Glucose</th>\n",
       "      <th>BloodPressure</th>\n",
       "      <th>SkinThickness</th>\n",
       "      <th>Insulin</th>\n",
       "      <th>BMI</th>\n",
       "      <th>DiabetesPedigreeFunction</th>\n",
       "      <th>Age</th>\n",
       "      <th>Outcome</th>\n",
       "    </tr>\n",
       "  </thead>\n",
       "  <tbody>\n",
       "    <tr>\n",
       "      <th>count</th>\n",
       "      <td>768.000000</td>\n",
       "      <td>768.000000</td>\n",
       "      <td>768.000000</td>\n",
       "      <td>768.000000</td>\n",
       "      <td>768.000000</td>\n",
       "      <td>768.000000</td>\n",
       "      <td>768.000000</td>\n",
       "      <td>768.000000</td>\n",
       "    </tr>\n",
       "    <tr>\n",
       "      <th>mean</th>\n",
       "      <td>121.117188</td>\n",
       "      <td>69.076823</td>\n",
       "      <td>20.536458</td>\n",
       "      <td>79.799479</td>\n",
       "      <td>31.992578</td>\n",
       "      <td>0.471876</td>\n",
       "      <td>33.243490</td>\n",
       "      <td>0.348958</td>\n",
       "    </tr>\n",
       "    <tr>\n",
       "      <th>std</th>\n",
       "      <td>31.805091</td>\n",
       "      <td>19.367794</td>\n",
       "      <td>15.952218</td>\n",
       "      <td>115.244002</td>\n",
       "      <td>7.884160</td>\n",
       "      <td>0.331329</td>\n",
       "      <td>11.758182</td>\n",
       "      <td>0.476951</td>\n",
       "    </tr>\n",
       "    <tr>\n",
       "      <th>min</th>\n",
       "      <td>0.000000</td>\n",
       "      <td>0.000000</td>\n",
       "      <td>0.000000</td>\n",
       "      <td>0.000000</td>\n",
       "      <td>0.000000</td>\n",
       "      <td>0.078000</td>\n",
       "      <td>21.000000</td>\n",
       "      <td>0.000000</td>\n",
       "    </tr>\n",
       "    <tr>\n",
       "      <th>25%</th>\n",
       "      <td>99.000000</td>\n",
       "      <td>62.000000</td>\n",
       "      <td>0.000000</td>\n",
       "      <td>0.000000</td>\n",
       "      <td>27.300000</td>\n",
       "      <td>0.243750</td>\n",
       "      <td>24.000000</td>\n",
       "      <td>0.000000</td>\n",
       "    </tr>\n",
       "    <tr>\n",
       "      <th>50%</th>\n",
       "      <td>117.000000</td>\n",
       "      <td>72.000000</td>\n",
       "      <td>23.000000</td>\n",
       "      <td>30.500000</td>\n",
       "      <td>32.000000</td>\n",
       "      <td>0.372500</td>\n",
       "      <td>29.000000</td>\n",
       "      <td>0.000000</td>\n",
       "    </tr>\n",
       "    <tr>\n",
       "      <th>75%</th>\n",
       "      <td>142.000000</td>\n",
       "      <td>80.000000</td>\n",
       "      <td>32.000000</td>\n",
       "      <td>127.250000</td>\n",
       "      <td>36.600000</td>\n",
       "      <td>0.626250</td>\n",
       "      <td>41.000000</td>\n",
       "      <td>1.000000</td>\n",
       "    </tr>\n",
       "    <tr>\n",
       "      <th>max</th>\n",
       "      <td>199.000000</td>\n",
       "      <td>122.000000</td>\n",
       "      <td>99.000000</td>\n",
       "      <td>846.000000</td>\n",
       "      <td>67.100000</td>\n",
       "      <td>2.420000</td>\n",
       "      <td>81.000000</td>\n",
       "      <td>1.000000</td>\n",
       "    </tr>\n",
       "  </tbody>\n",
       "</table>\n",
       "</div>"
      ],
      "text/plain": [
       "          Glucose  BloodPressure  SkinThickness     Insulin         BMI  \\\n",
       "count  768.000000     768.000000     768.000000  768.000000  768.000000   \n",
       "mean   121.117188      69.076823      20.536458   79.799479   31.992578   \n",
       "std     31.805091      19.367794      15.952218  115.244002    7.884160   \n",
       "min      0.000000       0.000000       0.000000    0.000000    0.000000   \n",
       "25%     99.000000      62.000000       0.000000    0.000000   27.300000   \n",
       "50%    117.000000      72.000000      23.000000   30.500000   32.000000   \n",
       "75%    142.000000      80.000000      32.000000  127.250000   36.600000   \n",
       "max    199.000000     122.000000      99.000000  846.000000   67.100000   \n",
       "\n",
       "       DiabetesPedigreeFunction         Age     Outcome  \n",
       "count                768.000000  768.000000  768.000000  \n",
       "mean                   0.471876   33.243490    0.348958  \n",
       "std                    0.331329   11.758182    0.476951  \n",
       "min                    0.078000   21.000000    0.000000  \n",
       "25%                    0.243750   24.000000    0.000000  \n",
       "50%                    0.372500   29.000000    0.000000  \n",
       "75%                    0.626250   41.000000    1.000000  \n",
       "max                    2.420000   81.000000    1.000000  "
      ]
     },
     "execution_count": 35,
     "metadata": {},
     "output_type": "execute_result"
    }
   ],
   "source": [
    "df.describe()"
   ]
  },
  {
   "cell_type": "code",
   "execution_count": 36,
   "id": "3471bf31",
   "metadata": {},
   "outputs": [
    {
     "data": {
      "text/plain": [
       "43.0"
      ]
     },
     "execution_count": 36,
     "metadata": {},
     "output_type": "execute_result"
    }
   ],
   "source": [
    "iqr = 142.000000 - 99.000000\n",
    "iqr"
   ]
  },
  {
   "cell_type": "code",
   "execution_count": 37,
   "id": "1038d28b",
   "metadata": {},
   "outputs": [
    {
     "name": "stdout",
     "output_type": "stream",
     "text": [
      "Q1 :  99.0\n",
      "Q2 :  117.0\n",
      "Q3 :  142.0\n"
     ]
    }
   ],
   "source": [
    "q1 = df[\"Glucose\"].quantile(0.25)\n",
    "q2 = df[\"Glucose\"].quantile(0.50)\n",
    "q3 = df[\"Glucose\"].quantile(0.75)\n",
    "print(\"Q1 : \", q1)\n",
    "print(\"Q2 : \", q2)\n",
    "print(\"Q3 : \", q3)"
   ]
  },
  {
   "cell_type": "code",
   "execution_count": 38,
   "id": "5871fadb",
   "metadata": {},
   "outputs": [
    {
     "name": "stdout",
     "output_type": "stream",
     "text": [
      "IQR : 43.0\n"
     ]
    }
   ],
   "source": [
    "iqr = q3 - q1\n",
    "print(\"IQR :\", iqr)"
   ]
  },
  {
   "cell_type": "code",
   "execution_count": 39,
   "id": "e1ed413c",
   "metadata": {},
   "outputs": [],
   "source": [
    "upper_tail = q3 + 1.5 * iqr\n",
    "lower_tail = q1 - 1.5 * iqr"
   ]
  },
  {
   "cell_type": "code",
   "execution_count": 40,
   "id": "83b32469",
   "metadata": {},
   "outputs": [
    {
     "name": "stdout",
     "output_type": "stream",
     "text": [
      "Upper Tail : 206.5\n",
      "Lower Tail : 34.5\n"
     ]
    }
   ],
   "source": [
    "print(\"Upper Tail :\", upper_tail)\n",
    "print(\"Lower Tail :\", lower_tail)"
   ]
  },
  {
   "cell_type": "code",
   "execution_count": null,
   "id": "54cb26fe",
   "metadata": {},
   "outputs": [],
   "source": []
  },
  {
   "cell_type": "code",
   "execution_count": 44,
   "id": "96ad396a",
   "metadata": {},
   "outputs": [
    {
     "data": {
      "text/plain": [
       "<AxesSubplot:>"
      ]
     },
     "execution_count": 44,
     "metadata": {},
     "output_type": "execute_result"
    },
    {
     "data": {
      "image/png": "[encoded data removed]",
      "text/plain": [
       "<Figure size 432x288 with 1 Axes>"
      ]
     },
     "metadata": {
      "needs_background": "light"
     },
     "output_type": "display_data"
    }
   ],
   "source": [
    "df[[\"Glucose\"]].boxplot()"
   ]
  },
  {
   "cell_type": "code",
   "execution_count": 45,
   "id": "7c358b36",
   "metadata": {},
   "outputs": [
    {
     "data": {
      "text/plain": [
       "<AxesSubplot:>"
      ]
     },
     "execution_count": 45,
     "metadata": {},
     "output_type": "execute_result"
    },
    {
     "data": {
      "image/png": "[encoded data removed]",
      "text/plain": [
       "<Figure size 432x288 with 1 Axes>"
      ]
     },
     "metadata": {
      "needs_background": "light"
     },
     "output_type": "display_data"
    }
   ],
   "source": [
    "df.boxplot()"
   ]
  },
  {
   "cell_type": "code",
   "execution_count": 46,
   "id": "79f20b15",
   "metadata": {},
   "outputs": [
    {
     "data": {
      "text/plain": [
       "<AxesSubplot:>"
      ]
     },
     "execution_count": 46,
     "metadata": {},
     "output_type": "execute_result"
    },
    {
     "data": {
      "image/png": "[encoded data removed]",
      "text/plain": [
       "<Figure size 432x288 with 1 Axes>"
      ]
     },
     "metadata": {
      "needs_background": "light"
     },
     "output_type": "display_data"
    }
   ],
   "source": [
    "df[[\"Insulin\"]].boxplot()"
   ]
  },
  {
   "cell_type": "code",
   "execution_count": 47,
   "id": "90174298",
   "metadata": {},
   "outputs": [
    {
     "name": "stdout",
     "output_type": "stream",
     "text": [
      "Q1 :  0.0\n",
      "Q2 :  30.5\n",
      "Q3 :  127.25\n"
     ]
    }
   ],
   "source": [
    "q1 = df[\"Insulin\"].quantile(0.25)\n",
    "q2 = df[\"Insulin\"].quantile(0.50)\n",
    "q3 = df[\"Insulin\"].quantile(0.75)\n",
    "print(\"Q1 : \", q1)\n",
    "print(\"Q2 : \", q2)\n",
    "print(\"Q3 : \", q3)"
   ]
  },
  {
   "cell_type": "code",
   "execution_count": 48,
   "id": "e5d5130c",
   "metadata": {},
   "outputs": [
    {
     "name": "stdout",
     "output_type": "stream",
     "text": [
      "IQR : 127.25\n"
     ]
    }
   ],
   "source": [
    "iqr = q3 - q1\n",
    "print(\"IQR :\", iqr)"
   ]
  },
  {
   "cell_type": "code",
   "execution_count": 49,
   "id": "40332e32",
   "metadata": {},
   "outputs": [],
   "source": [
    "upper_tail = q3 + 1.5 * iqr\n",
    "lower_tail = q1 - 1.5 * iqr"
   ]
  },
  {
   "cell_type": "code",
   "execution_count": 50,
   "id": "f7710cf1",
   "metadata": {},
   "outputs": [
    {
     "name": "stdout",
     "output_type": "stream",
     "text": [
      "Upper Tail : 318.125\n",
      "Lower Tail : -190.875\n"
     ]
    }
   ],
   "source": [
    "print(\"Upper Tail :\", upper_tail)\n",
    "print(\"Lower Tail :\", lower_tail)"
   ]
  }
 ],
 "metadata": {
  "kernelspec": {
   "display_name": "Python 3 (ipykernel)",
   "language": "python",
   "name": "python3"
  },
  "language_info": {
   "codemirror_mode": {
    "name": "ipython",
    "version": 3
   },
   "file_extension": ".py",
   "mimetype": "text/x-python",
   "name": "python",
   "nbconvert_exporter": "python",
   "pygments_lexer": "ipython3",
   "version": "3.10.0"
  }
 },
 "nbformat": 4,
 "nbformat_minor": 5
}
